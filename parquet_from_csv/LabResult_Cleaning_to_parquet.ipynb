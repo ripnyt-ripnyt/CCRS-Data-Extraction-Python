{
 "cells": [
  {
   "cell_type": "code",
   "execution_count": 344,
   "metadata": {},
   "outputs": [],
   "source": [
    "import pandas as pd\n",
    "import numpy as np\n",
    "import plotly.express as px\n",
    "import os\n",
    "import matplotlib.pyplot as plt\n",
    "from pandas.api.types import CategoricalDtype\n",
    "from fuzzywuzzy import fuzz, process\n",
    "from numpy import int8\n",
    "\n",
    "# Define the 'category' data type\n",
    "category = CategoricalDtype()\n",
    "\n",
    "\n",
    "src = 'finalCCRSdata/'\n"
   ]
  },
  {
   "cell_type": "code",
   "execution_count": 326,
   "metadata": {},
   "outputs": [],
   "source": [
    "def replace_test_names(df, replacements):\n",
    "    # Loop over the keys and values of the replacements dictionary\n",
    "    for old_value, new_value in replacements.items():\n",
    "        # Create a boolean mask to select the rows where \"TestName\" contains the old value\n",
    "        mask = df['TestName'].str.contains(old_value)\n",
    "\n",
    "        # Update the \"TestName\" column for the selected rows to the new value\n",
    "        df.loc[mask, 'TestName'] = new_value\n",
    "    return df\n",
    "\n",
    "\n",
    "def replace_units(df, replacements):\n",
    "    for old_value, new_value in replacements.items():\n",
    "        mask = df['Units'] == old_value\n",
    "        df.loc[mask, 'Units'] = new_value\n",
    "    return df\n",
    "\n",
    "\n",
    "def replace_TestValue(df, replacements):\n",
    "    for old_value, new_value in replacements.items():\n",
    "        mask = df['TestValue'] == old_value\n",
    "        df.loc[mask, 'TestValue'] = new_value\n",
    "    return df\n"
   ]
  },
  {
   "cell_type": "code",
   "execution_count": 327,
   "metadata": {},
   "outputs": [
    {
     "name": "stderr",
     "output_type": "stream",
     "text": [
      "/tmp/ipykernel_45346/1505006405.py:11: DtypeWarning: Columns (7,12,13) have mixed types. Specify dtype option on import or set low_memory=False.\n",
      "  df_list = [pd.read_csv(os.path.join(src, file)) for file in prefix_files]\n",
      "/tmp/ipykernel_45346/1505006405.py:11: DtypeWarning: Columns (7,8,12,13) have mixed types. Specify dtype option on import or set low_memory=False.\n",
      "  df_list = [pd.read_csv(os.path.join(src, file)) for file in prefix_files]\n"
     ]
    }
   ],
   "source": [
    "file_list = os.listdir(src)\n",
    "\n",
    "# get a list of prefixes\n",
    "# prefix_list = list(set([file.split('_')[0] for file in file_list if '_' in file and file.endswith('.csv')]))\n",
    "prefix_list = ['LabResult']\n",
    "\n",
    "\n",
    "# make a dictionary of dataframes\n",
    "for prefix in prefix_list:\n",
    "    prefix_files = [file for file in file_list if file.startswith(\n",
    "        prefix) and file.endswith('.csv')]\n",
    "    df_list = [pd.read_csv(os.path.join(src, file)) for file in prefix_files]\n",
    "    df_concat_LabResult = pd.concat(\n",
    "        df_list, keys=[(prefix, file) for file in prefix_files], ignore_index=False)\n"
   ]
  },
  {
   "cell_type": "code",
   "execution_count": 328,
   "metadata": {},
   "outputs": [],
   "source": [
    "# drop useless columns\n",
    "df_concat_LabResult = df_concat_LabResult[['LabResultId', 'LabLicenseeId', 'LicenseeId', 'LabTestStatus',\n",
    "                                           'InventoryId', 'TestName', 'TestDate', 'TestValue',\n",
    "                                           'ExternalIdentifier',\n",
    "                                           # 'IsDeleted', 'CreatedBy', 'CreatedDate',\n",
    "                                           # 'UpdatedBy', 'UpdatedDate'\n",
    "                                           ]]\n"
   ]
  },
  {
   "cell_type": "code",
   "execution_count": 329,
   "metadata": {},
   "outputs": [],
   "source": [
    "df_concat_LabResult = df_concat_LabResult.loc[df_concat_LabResult['TestName'] != 'Terpineol']\n"
   ]
  },
  {
   "cell_type": "code",
   "execution_count": 330,
   "metadata": {},
   "outputs": [],
   "source": [
    "\n",
    "\n",
    "replacement_TestNames = {\n",
    "    'Dichlorvos': 'Pesticide - DDVP (ppm)',\n",
    "    'DDVP': 'Pesticide - DDVP (ppm)',\n",
    "    'Permethrins': 'Pesticide - Permethrins (ppm)',\n",
    "    'Spinosads': 'Pesticide - Spinosads (ppm)',\n",
    "    'Spinosad': 'Pesticide - Spinosads (ppm)',\n",
    "    'Residual Solvent - 2-Propanol \\(IPA\\) \\(ug/g\\)': 'Residual Solvent - 2-Propanol (ug/g)',\n",
    "    'Clofentizine': 'Clofentizene',\n",
    "    'Dichloro-Methane': 'Dichloromethane',\n",
    "    'Heptanea': 'Heptane',\n",
    "    'Heptanes': 'Heptane',\n",
    "    'Kresoxin-Methyl': 'Kresoxim-Methyl',\n",
    "    'Phosemet': 'Phosmet',\n",
    "    'Propanes': 'Propane',\n",
    "    'Pyrethrin I': 'Pyrethrins',\n",
    "    'n-Hexane': 'Hexanes',\n",
    "    'Total Aflatoxins': 'Aflatoxins',\n",
    "    'Ochratoxin A': 'Ochratoxin',\n",
    "    'Salmonella spp.': 'Microbiological - Salmonella (CFU/g)',\n",
    "    'As': 'Heavy Metal - Arsenic (ppm)',\n",
    "    'Cd': 'Heavy Metal - Cadmium (ppm)',\n",
    "    'Hg': 'Heavy Metal - Mercury (ppm)',\n",
    "    'Pb': 'Heavy Metal - Lead (ppm)',\n",
    "    'Potency - D9THCA\\(\\)': 'Potency - D9THCA (%)',\n",
    "    'Potency - D9THCA \\(\\)': 'Potency - D9THCA (%)',\n",
    "    'Potency - D9THC \\(\\)': 'Potency - D9THC (%)',\n",
    "    'Potency - D9THC\\(\\)': 'Potency - D9THC (%)',\n",
    "    'Potency - CBDA\\(\\)': 'Potency - CBDA (%)',\n",
    "    'Potency - CBDA \\(\\)': 'Potency - CBDA (%)',\n",
    "    'Potency - CBD\\(\\)': 'Potency - CBD (%)',\n",
    "    'Potency - CBD \\(\\)': 'Potency - CBD (%)',\n",
    "    'Potency - Total THC \\(\\)': 'Potency - Total THC (%)',\n",
    "    'Potency - Total CBD \\(\\)': 'Potency - Total CBD (%)',\n",
    "    'd9-THC': 'Potency - D9THC (%)',\n",
    "    'd9-THCA': 'Potency - D9THCA (%)',\n",
    "    'Total d9-THC': 'Potency - Total THC (%)',\n",
    "    'd9-CBD': 'Potency - CBD (%)',\n",
    "    'd9-CBDA': 'Potency - CBDA (%)',\n",
    "    'Total d9-CBD': 'Potency - Total CBD (%)',\n",
    "    'Kresoxim-methyl': 'Pesticide - Kresoxim-Methyl (ppm)',\n",
    "    'iso-Propanol': 'Residual Solvent - Isopropanol (ppm)',\n",
    "    'Residual Solvent - 2-Propanol \\(IPA\\) \\(ug/g\\)': 'Residual Solvent - Isopropanol (ppm)',\n",
    "    'Microbial- I502 panel \\(3\\)-Bile Tolerant gram neg': 'Microbiological - BTGN(CFU/g)',\n",
    "    'Moisture & Water Activity-Water Activity \\(Aw\\)\\(%\\)': 'Moisture Analysis - Water Activity (aw)',\n",
    "    'Microbial- I502 panel \\(3\\)-Salmonella': 'Microbiological - Salmonella (CFU/g)',\n",
    "    'Clofentizene': 'Pesticide - Clofentezine (ppm)',\n",
    "    'Microbial- I502 panel \\(3\\)-E.coli': 'Microbiological - STEC (CFU/g)'\n",
    "\n",
    "}\n",
    "\n",
    "df_concat_LabResult = replace_test_names(\n",
    "    df_concat_LabResult, replacement_TestNames)\n"
   ]
  },
  {
   "cell_type": "code",
   "execution_count": 331,
   "metadata": {},
   "outputs": [],
   "source": [
    "\n",
    "df_concat_LabResult['TestDate'] = pd.to_datetime(\n",
    "    df_concat_LabResult['TestDate'])\n",
    "\n",
    "# Convert the TestValue column to float, capturing any errors\n",
    "\n",
    "\n",
    "bad_values = df_concat_LabResult.loc[pd.to_numeric(\n",
    "    df_concat_LabResult['TestValue'], errors='coerce').isna()].copy()\n",
    "bad_values['OriginalTestValue'] = bad_values['TestValue']\n",
    "\n",
    "\n",
    "df_concat_LabResult['TestValue'] = pd.to_numeric(\n",
    "    df_concat_LabResult['TestValue'], errors='coerce')\n",
    "df_concat_LabResult = df_concat_LabResult.loc[~df_concat_LabResult['TestValue'].isna(\n",
    ")]\n"
   ]
  },
  {
   "cell_type": "code",
   "execution_count": 332,
   "metadata": {},
   "outputs": [
    {
     "data": {
      "text/plain": [
       "OriginalTestValue\n",
       "Not Tested    7371\n",
       "DET             13\n",
       "trace            3\n",
       ".                1\n",
       ".0823.10         1\n",
       ".17.11           1\n",
       ".24.21           1\n",
       ".43.             1\n",
       ".63.             1\n",
       "30.53.           1\n",
       "9.2.97           1\n",
       "dtype: int64"
      ]
     },
     "execution_count": 332,
     "metadata": {},
     "output_type": "execute_result"
    }
   ],
   "source": [
    "# Determine if the values which are not numeric are ok to be removed from dataset\n",
    "\n",
    "bad_values.value_counts('OriginalTestValue')\n",
    "\n",
    "# yes\n"
   ]
  },
  {
   "cell_type": "code",
   "execution_count": 333,
   "metadata": {},
   "outputs": [],
   "source": [
    "df_concat_LabResult = df_concat_LabResult.astype({\n",
    "    'LabResultId': str,\n",
    "    'LabLicenseeId': str,\n",
    "    'LicenseeId': str,\n",
    "    'LabTestStatus': category,\n",
    "    'InventoryId': str,\n",
    "    'TestName': str,\n",
    "    'TestValue': float,\n",
    "    'ExternalIdentifier': str\n",
    "})\n"
   ]
  },
  {
   "cell_type": "code",
   "execution_count": 334,
   "metadata": {},
   "outputs": [],
   "source": [
    "\n",
    "\n",
    "# Find all unique prefixes in TestName column\n",
    "prefixes = df_concat_LabResult['TestName'].str.extract(\n",
    "    r'^([^-]+)\\s?-').dropna().iloc[:, 0].unique()\n",
    "\n",
    "# Split DataFrame into two based on prefix presence in TestName column\n",
    "df_with_prefix = df_concat_LabResult[df_concat_LabResult['TestName'].str.extract(\n",
    "    r'^([^-]+)\\s?-').iloc[:, 0].isin(prefixes)]\n",
    "df_without_prefix = df_concat_LabResult[~df_concat_LabResult['TestName'].str.extract(\n",
    "    r'^([^-]+)\\s?-').iloc[:, 0].isin(prefixes)]\n"
   ]
  },
  {
   "cell_type": "markdown",
   "metadata": {},
   "source": [
    "# clean df which has testnames with prefixes, the preferred format"
   ]
  },
  {
   "cell_type": "code",
   "execution_count": 335,
   "metadata": {},
   "outputs": [],
   "source": [
    "# Define the regex pattern\n",
    "pattern = r'^([^-]+)\\s?-([^(]+)(?:\\(([^)]+)\\))?$'\n",
    "\n",
    "# Extract the new columns from the TestName column\n",
    "new_cols = df_with_prefix['TestName'].str.extract(pattern)\n",
    "\n",
    "\n",
    "# Add the new columns to the df_with_prefix DataFrame\n",
    "df_with_prefix = df_with_prefix.assign(\n",
    "    TestGroup=new_cols[0], Analyte=new_cols[1], Units=new_cols[2])\n",
    "\n",
    "\n",
    "replacement_units = {\n",
    "    'Aw': 'aw',\n",
    "    'PPM': 'ppm',\n",
    "    'g/kg': 'mg/g',\n",
    "    'ea.': 'ea',\n",
    "    'CFU/G': 'CFU/g',\n",
    "}\n",
    "\n",
    "df_with_prefix = replace_units(df_with_prefix, replacement_units)\n"
   ]
  },
  {
   "cell_type": "code",
   "execution_count": 336,
   "metadata": {},
   "outputs": [
    {
     "name": "stderr",
     "output_type": "stream",
     "text": [
      "/tmp/ipykernel_45346/289796853.py:14: SettingWithCopyWarning: \n",
      "A value is trying to be set on a copy of a slice from a DataFrame.\n",
      "Try using .loc[row_indexer,col_indexer] = value instead\n",
      "\n",
      "See the caveats in the documentation: https://pandas.pydata.org/pandas-docs/stable/user_guide/indexing.html#returning-a-view-versus-a-copy\n",
      "  df_without_prefix[['NewTestName', 'MatchScore']\n",
      "/tmp/ipykernel_45346/289796853.py:14: SettingWithCopyWarning: \n",
      "A value is trying to be set on a copy of a slice from a DataFrame.\n",
      "Try using .loc[row_indexer,col_indexer] = value instead\n",
      "\n",
      "See the caveats in the documentation: https://pandas.pydata.org/pandas-docs/stable/user_guide/indexing.html#returning-a-view-versus-a-copy\n",
      "  df_without_prefix[['NewTestName', 'MatchScore']\n"
     ]
    }
   ],
   "source": [
    "# Define a function to compute the fuzzy match score between two strings\n",
    "# Get the list of canonical test names from the 'TestName' column of the df_with_prefix DataFrame\n",
    "canonical_names = df_with_prefix['TestName'].unique()\n",
    "\n",
    "# Define a function to compute the closest canonical name for a given test name\n",
    "\n",
    "# Define a function to compute the closest canonical name and match score for a given test name\n",
    "\n",
    "\n",
    "def closest_name(name):\n",
    "    match = process.extractOne(name, canonical_names)\n",
    "    return match[0], match[1]\n",
    "\n",
    "\n",
    "# Apply the closest_name function to the 'TestName' column of the df_without_prefix DataFrame to standardize the test names and print the match score\n",
    "df_without_prefix[['NewTestName', 'MatchScore']\n",
    "                  ] = df_without_prefix['TestName'].apply(closest_name).apply(pd.Series)\n"
   ]
  },
  {
   "cell_type": "markdown",
   "metadata": {},
   "source": [
    "# Checking fuzzy match accuracy and applying corrections\n",
    "the fuzzy match results were visually analyzed, and corrections that are noted are below.\n",
    "the resulting corrections were implemented on `df_LabResults_concat` during the `replace_test_names` application\n",
    "\n",
    " - spinosads is incorrect, amended by removing the double dictionary entry in the replace_test_names input\n",
    " - Clofentezine is matched correctly at score 75\n",
    " - Dichlorvos isn't matched because the canonical is the abbreviation DDVP, so I added a dict input for replace_test_names\n",
    " - Total Abamectin is correctly matched score 86\n",
    " - Total Pyrethrins ''\n",
    " - Total MGK 264 ''\n",
    " - Terpineol is not matched correctly, but does it matter? score 50. going to consider removing since it is not a required test. not in canonical name list\n",
    " - looking at the values, I am going to assume that this is mg/g it is, however it's not useful to me so i dropped it early on.\n",
    " - Total Xylenes is matched correctly, score 86\n",
    " - Ethyl_Acetate is matched correctly, score 83\n",
    " - Total Pentanes ''\n",
    " - Total Hexanes ''\n",
    " - Total Butanes ''\n",
    " - E Coli is not matched correct, sent to 'Moisture Analysis - Moisture Content (%)', match 60\n",
    " - ['Heavy Metal - Arsenic (ppm)', 'Heavy Metal - Arsenic (ug/g)']\n",
    " - ['Heavy Metal - Cadmium (ppm)', 'Heavy Metal - Cadmium (ug/g)']\n",
    " - ['Heavy Metal - Mercury (ppm)', 'Heavy Metal - Mercury (ug/g)']\n",
    " - ['Heavy Metal - Lead (ppm)', 'Heavy Metal - Lead (ug/g)']\n",
    " - Salmonella spp. was incorrect, so I added it to the replace_test_names dict\n",
    " - what to do with the heavy metals, i don't know which unit to assign them do since I don't have the product type available atm. I'll make them all ppm since that's the generic units"
   ]
  },
  {
   "cell_type": "markdown",
   "metadata": {},
   "source": [
    "# Matching `df_without_prefix` with `df_with_prefix`"
   ]
  },
  {
   "cell_type": "code",
   "execution_count": 337,
   "metadata": {},
   "outputs": [
    {
     "name": "stderr",
     "output_type": "stream",
     "text": [
      "/tmp/ipykernel_45346/1737276122.py:1: SettingWithCopyWarning: \n",
      "A value is trying to be set on a copy of a slice from a DataFrame.\n",
      "Try using .loc[row_indexer,col_indexer] = value instead\n",
      "\n",
      "See the caveats in the documentation: https://pandas.pydata.org/pandas-docs/stable/user_guide/indexing.html#returning-a-view-versus-a-copy\n",
      "  df_without_prefix['TestName'] = df_without_prefix['NewTestName']\n"
     ]
    }
   ],
   "source": [
    "df_without_prefix['TestName'] = df_without_prefix['NewTestName']\n",
    "df_without_prefix = df_without_prefix.drop(\n",
    "    columns=['NewTestName', 'MatchScore'])\n",
    "\n",
    "# Define the regex pattern\n",
    "pattern = r'^([^-]+)\\s?-([^(]+)(?:\\(([^)]+)\\))?$'\n",
    "\n",
    "# Extract the new columns from the TestName column\n",
    "new_cols = df_without_prefix['TestName'].str.extract(pattern)\n",
    "\n",
    "\n",
    "# Add the new columns to the df_without_prefix DataFrame\n",
    "df_without_prefix = df_without_prefix.assign(\n",
    "    TestGroup=new_cols[0], Analyte=new_cols[1], Units=new_cols[2])\n",
    "\n",
    "\n",
    "replacement_units = {\n",
    "    'Aw': 'aw',\n",
    "    'PPM': 'ppm',\n",
    "    'g/kg': 'mg/g',\n",
    "    'ea.': 'ea',\n",
    "    'CFU/G': 'CFU/g',\n",
    "}\n",
    "\n",
    "df_without_prefix = replace_units(df_without_prefix, replacement_units)\n"
   ]
  },
  {
   "cell_type": "code",
   "execution_count": 339,
   "metadata": {},
   "outputs": [
    {
     "name": "stderr",
     "output_type": "stream",
     "text": [
      "/tmp/ipykernel_45346/2096448669.py:1: FutureWarning: The frame.append method is deprecated and will be removed from pandas in a future version. Use pandas.concat instead.\n",
      "  df_lab_results = df_with_prefix.append(df_without_prefix)\n"
     ]
    }
   ],
   "source": [
    "df_lab_results = df_with_prefix.append(df_without_prefix)\n"
   ]
  },
  {
   "cell_type": "code",
   "execution_count": 345,
   "metadata": {},
   "outputs": [],
   "source": [
    "boob = {\n",
    "    'Pass': True,\n",
    "    'Fail': False\n",
    "}\n",
    "\n",
    "df_lab_results['LabTestStatus'] = df_lab_results['LabTestStatus'].map(boob)\n",
    "\n",
    "\n",
    "df_lab_results = df_lab_results.astype({\n",
    "    'LabResultId': int,\n",
    "    'LabLicenseeId': int8,\n",
    "    'LicenseeId': int8,\n",
    "    'LabTestStatus': bool,\n",
    "    'InventoryId': int,\n",
    "    'TestName': str,\n",
    "    'TestValue': float,\n",
    "    'ExternalIdentifier': str,\n",
    "    'TestGroup': 'category',\n",
    "    'Analyte': 'category',\n",
    "    'Units': 'category'\n",
    "})\n"
   ]
  },
  {
   "cell_type": "code",
   "execution_count": 346,
   "metadata": {},
   "outputs": [
    {
     "name": "stdout",
     "output_type": "stream",
     "text": [
      "<class 'pandas.core.frame.DataFrame'>\n",
      "MultiIndex: 1623838 entries, ('LabResult', 'LabResult_1.csv', 0) to ('LabResult', 'LabResult_0.csv', 999979)\n",
      "Data columns (total 12 columns):\n",
      " #   Column              Non-Null Count    Dtype         \n",
      "---  ------              --------------    -----         \n",
      " 0   LabResultId         1623838 non-null  int64         \n",
      " 1   LabLicenseeId       1623838 non-null  int8          \n",
      " 2   LicenseeId          1623838 non-null  int8          \n",
      " 3   LabTestStatus       1623838 non-null  bool          \n",
      " 4   InventoryId         1623838 non-null  int64         \n",
      " 5   TestName            1623838 non-null  object        \n",
      " 6   TestDate            1623838 non-null  datetime64[ns]\n",
      " 7   TestValue           1623838 non-null  float64       \n",
      " 8   ExternalIdentifier  1623838 non-null  object        \n",
      " 9   TestGroup           1623838 non-null  category      \n",
      " 10  Analyte             1623838 non-null  category      \n",
      " 11  Units               1623838 non-null  category      \n",
      "dtypes: bool(1), category(3), datetime64[ns](1), float64(1), int64(2), int8(2), object(2)\n",
      "memory usage: 132.8+ MB\n"
     ]
    }
   ],
   "source": [
    "df_lab_results.info()\n"
   ]
  },
  {
   "cell_type": "code",
   "execution_count": 347,
   "metadata": {},
   "outputs": [],
   "source": [
    "df_lab_results.to_parquet('lab_results.parquet', index=False)\n"
   ]
  }
 ],
 "metadata": {
  "kernelspec": {
   "display_name": "Python 3.10.8 64-bit",
   "language": "python",
   "name": "python3"
  },
  "language_info": {
   "codemirror_mode": {
    "name": "ipython",
    "version": 3
   },
   "file_extension": ".py",
   "mimetype": "text/x-python",
   "name": "python",
   "nbconvert_exporter": "python",
   "pygments_lexer": "ipython3",
   "version": "3.10.8"
  },
  "orig_nbformat": 4,
  "vscode": {
   "interpreter": {
    "hash": "69712e5f5cc18cdb93e82f18d7bfde9a47d7138efae1f4b87f8f55069ac86612"
   }
  }
 },
 "nbformat": 4,
 "nbformat_minor": 2
}
