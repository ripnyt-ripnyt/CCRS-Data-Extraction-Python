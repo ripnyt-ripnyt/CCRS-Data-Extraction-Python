{
 "cells": [
  {
   "cell_type": "code",
   "execution_count": 2,
   "metadata": {},
   "outputs": [],
   "source": [
    "import pandas as pd\n",
    "import numpy as np\n",
    "import plotly.express as px\n",
    "import os\n",
    "import matplotlib.pyplot as plt\n",
    "from numpy import int8, int16\n",
    "\n",
    "src = '../finalCCRSdata/'\n"
   ]
  },
  {
   "cell_type": "code",
   "execution_count": 3,
   "metadata": {},
   "outputs": [],
   "source": [
    "file_list = os.listdir(src)\n",
    "\n",
    "# get a list of prefixes\n",
    "# prefix_list = list(set([file.split('_')[0] for file in file_list if '_' in file and file.endswith('.csv')]))\n",
    "prefix_list = ['Strains']\n",
    "\n",
    "\n",
    "# make a dictionary of dataframes\n",
    "for prefix in prefix_list:\n",
    "    prefix_files = [file for file in file_list if file.startswith(\n",
    "        prefix) and file.endswith('.csv')]\n",
    "    df_list = [pd.read_csv(os.path.join(src, file)) for file in prefix_files]\n",
    "    df_concat = pd.concat(\n",
    "        df_list, keys=[(prefix, file) for file in prefix_files], ignore_index=True)\n"
   ]
  },
  {
   "cell_type": "code",
   "execution_count": 4,
   "metadata": {},
   "outputs": [
    {
     "data": {
      "text/plain": [
       "Index(['StrainId', 'StrainType', 'Name', 'IsDeleted', 'CreatedBy',\n",
       "       'CreatedDate', 'UpdatedBy', 'UpdatedDate'],\n",
       "      dtype='object')"
      ]
     },
     "execution_count": 4,
     "metadata": {},
     "output_type": "execute_result"
    }
   ],
   "source": [
    "df_concat.columns\n"
   ]
  },
  {
   "cell_type": "code",
   "execution_count": 5,
   "metadata": {},
   "outputs": [],
   "source": [
    "df_concat = df_concat[['StrainId', 'StrainType', 'Name', 'IsDeleted', \n",
    "                       #'CreatedBy', \n",
    "                       'CreatedDate'\n",
    "                       #'UpdatedBy', 'updatedDate'\n",
    "                       ]]\n",
    "#del df_list\n",
    "#del file_list\n",
    "#del df_concat\n"
   ]
  },
  {
   "cell_type": "code",
   "execution_count": 6,
   "metadata": {},
   "outputs": [
    {
     "data": {
      "text/html": [
       "<div>\n",
       "<style scoped>\n",
       "    .dataframe tbody tr th:only-of-type {\n",
       "        vertical-align: middle;\n",
       "    }\n",
       "\n",
       "    .dataframe tbody tr th {\n",
       "        vertical-align: top;\n",
       "    }\n",
       "\n",
       "    .dataframe thead th {\n",
       "        text-align: right;\n",
       "    }\n",
       "</style>\n",
       "<table border=\"1\" class=\"dataframe\">\n",
       "  <thead>\n",
       "    <tr style=\"text-align: right;\">\n",
       "      <th></th>\n",
       "      <th>StrainId</th>\n",
       "      <th>StrainType</th>\n",
       "      <th>Name</th>\n",
       "      <th>IsDeleted</th>\n",
       "      <th>CreatedDate</th>\n",
       "    </tr>\n",
       "  </thead>\n",
       "  <tbody>\n",
       "    <tr>\n",
       "      <th>0</th>\n",
       "      <td>401366</td>\n",
       "      <td>Hybrid</td>\n",
       "      <td>#Hashtag Hybrid</td>\n",
       "      <td>False</td>\n",
       "      <td>2020-06-26 00:00:00</td>\n",
       "    </tr>\n",
       "    <tr>\n",
       "      <th>1</th>\n",
       "      <td>20765</td>\n",
       "      <td>Hybrid</td>\n",
       "      <td>||||||| Glue EcoBudz</td>\n",
       "      <td>False</td>\n",
       "      <td>2018-08-02 00:00:00</td>\n",
       "    </tr>\n",
       "    <tr>\n",
       "      <th>2</th>\n",
       "      <td>172987</td>\n",
       "      <td>Hybrid</td>\n",
       "      <td>1:1 CBD</td>\n",
       "      <td>False</td>\n",
       "      <td>2020-09-29 00:00:00</td>\n",
       "    </tr>\n",
       "    <tr>\n",
       "      <th>3</th>\n",
       "      <td>172988</td>\n",
       "      <td>Hybrid</td>\n",
       "      <td>3 Bears OG</td>\n",
       "      <td>False</td>\n",
       "      <td>2020-08-20 00:00:00</td>\n",
       "    </tr>\n",
       "    <tr>\n",
       "      <th>4</th>\n",
       "      <td>172989</td>\n",
       "      <td>Hybrid</td>\n",
       "      <td>4 Juices</td>\n",
       "      <td>False</td>\n",
       "      <td>2020-02-13 00:00:00</td>\n",
       "    </tr>\n",
       "    <tr>\n",
       "      <th>...</th>\n",
       "      <td>...</td>\n",
       "      <td>...</td>\n",
       "      <td>...</td>\n",
       "      <td>...</td>\n",
       "      <td>...</td>\n",
       "    </tr>\n",
       "    <tr>\n",
       "      <th>490954</th>\n",
       "      <td>431585</td>\n",
       "      <td>Hybrid</td>\n",
       "      <td>ZZZZZZZZ</td>\n",
       "      <td>False</td>\n",
       "      <td>2021-12-05 08:54:00</td>\n",
       "    </tr>\n",
       "    <tr>\n",
       "      <th>490955</th>\n",
       "      <td>444849</td>\n",
       "      <td>Hybrid</td>\n",
       "      <td>ZZZZZZZZZZZZZ</td>\n",
       "      <td>False</td>\n",
       "      <td>2022-06-12 05:55:00</td>\n",
       "    </tr>\n",
       "    <tr>\n",
       "      <th>490956</th>\n",
       "      <td>271935</td>\n",
       "      <td>Hybrid</td>\n",
       "      <td>zzzzzzzzzzzzzzzzzzzzzz</td>\n",
       "      <td>False</td>\n",
       "      <td>2021-12-05 08:52:00</td>\n",
       "    </tr>\n",
       "    <tr>\n",
       "      <th>490957</th>\n",
       "      <td>271936</td>\n",
       "      <td>Hybrid</td>\n",
       "      <td>zzzzzzzzzzzzzzzzzzzzzzzz</td>\n",
       "      <td>False</td>\n",
       "      <td>2021-12-05 08:52:00</td>\n",
       "    </tr>\n",
       "    <tr>\n",
       "      <th>490958</th>\n",
       "      <td>271937</td>\n",
       "      <td>Hybrid</td>\n",
       "      <td>zzzzzzzzzzzzzzzzzzzzzzzzz</td>\n",
       "      <td>False</td>\n",
       "      <td>2021-12-05 08:52:00</td>\n",
       "    </tr>\n",
       "  </tbody>\n",
       "</table>\n",
       "<p>490959 rows × 5 columns</p>\n",
       "</div>"
      ],
      "text/plain": [
       "        StrainId StrainType                       Name  IsDeleted  \\\n",
       "0         401366     Hybrid            #Hashtag Hybrid      False   \n",
       "1          20765     Hybrid       ||||||| Glue EcoBudz      False   \n",
       "2         172987     Hybrid                    1:1 CBD      False   \n",
       "3         172988     Hybrid                 3 Bears OG      False   \n",
       "4         172989     Hybrid                   4 Juices      False   \n",
       "...          ...        ...                        ...        ...   \n",
       "490954    431585     Hybrid                   ZZZZZZZZ      False   \n",
       "490955    444849     Hybrid              ZZZZZZZZZZZZZ      False   \n",
       "490956    271935     Hybrid     zzzzzzzzzzzzzzzzzzzzzz      False   \n",
       "490957    271936     Hybrid   zzzzzzzzzzzzzzzzzzzzzzzz      False   \n",
       "490958    271937     Hybrid  zzzzzzzzzzzzzzzzzzzzzzzzz      False   \n",
       "\n",
       "                CreatedDate  \n",
       "0       2020-06-26 00:00:00  \n",
       "1       2018-08-02 00:00:00  \n",
       "2       2020-09-29 00:00:00  \n",
       "3       2020-08-20 00:00:00  \n",
       "4       2020-02-13 00:00:00  \n",
       "...                     ...  \n",
       "490954  2021-12-05 08:54:00  \n",
       "490955  2022-06-12 05:55:00  \n",
       "490956  2021-12-05 08:52:00  \n",
       "490957  2021-12-05 08:52:00  \n",
       "490958  2021-12-05 08:52:00  \n",
       "\n",
       "[490959 rows x 5 columns]"
      ]
     },
     "execution_count": 6,
     "metadata": {},
     "output_type": "execute_result"
    }
   ],
   "source": [
    "df_concat\n"
   ]
  },
  {
   "cell_type": "code",
   "execution_count": 7,
   "metadata": {},
   "outputs": [
    {
     "data": {
      "text/plain": [
       "StrainId       0\n",
       "StrainType     0\n",
       "Name           4\n",
       "IsDeleted      0\n",
       "CreatedDate    0\n",
       "dtype: int64"
      ]
     },
     "execution_count": 7,
     "metadata": {},
     "output_type": "execute_result"
    }
   ],
   "source": [
    "df_concat.isna().sum()\n"
   ]
  },
  {
   "cell_type": "code",
   "execution_count": 11,
   "metadata": {},
   "outputs": [],
   "source": [
    "df_concat['Name'] = df_concat['Name'].fillna('Unknown')\n"
   ]
  },
  {
   "cell_type": "code",
   "execution_count": 12,
   "metadata": {},
   "outputs": [
    {
     "data": {
      "text/html": [
       "<div>\n",
       "<style scoped>\n",
       "    .dataframe tbody tr th:only-of-type {\n",
       "        vertical-align: middle;\n",
       "    }\n",
       "\n",
       "    .dataframe tbody tr th {\n",
       "        vertical-align: top;\n",
       "    }\n",
       "\n",
       "    .dataframe thead th {\n",
       "        text-align: right;\n",
       "    }\n",
       "</style>\n",
       "<table border=\"1\" class=\"dataframe\">\n",
       "  <thead>\n",
       "    <tr style=\"text-align: right;\">\n",
       "      <th></th>\n",
       "      <th>StrainId</th>\n",
       "      <th>StrainType</th>\n",
       "      <th>Name</th>\n",
       "      <th>IsDeleted</th>\n",
       "      <th>CreatedDate</th>\n",
       "    </tr>\n",
       "  </thead>\n",
       "  <tbody>\n",
       "  </tbody>\n",
       "</table>\n",
       "</div>"
      ],
      "text/plain": [
       "Empty DataFrame\n",
       "Columns: [StrainId, StrainType, Name, IsDeleted, CreatedDate]\n",
       "Index: []"
      ]
     },
     "execution_count": 12,
     "metadata": {},
     "output_type": "execute_result"
    }
   ],
   "source": [
    "df_concat.loc[df_concat.duplicated()]\n",
    "\n",
    "# not sure what to do for the duplicates in this table, it appears that there is no primary key in this table. may need to modify the relationships in postgres\n"
   ]
  },
  {
   "cell_type": "code",
   "execution_count": 13,
   "metadata": {},
   "outputs": [
    {
     "data": {
      "text/plain": [
       "StrainId        int64\n",
       "StrainType     object\n",
       "Name           object\n",
       "IsDeleted        bool\n",
       "CreatedDate    object\n",
       "dtype: object"
      ]
     },
     "execution_count": 13,
     "metadata": {},
     "output_type": "execute_result"
    }
   ],
   "source": [
    "df_concat.dtypes\n"
   ]
  },
  {
   "cell_type": "code",
   "execution_count": 14,
   "metadata": {},
   "outputs": [],
   "source": [
    "\n",
    "\n",
    "df_concat = df_concat.astype({\n",
    "    'StrainId' :        int,\n",
    "    'StrainType' :     str,\n",
    "    'Name' :           str,\n",
    "}, errors='ignore')\n",
    "df_concat['CreatedDate'] = pd.to_datetime(df_concat['CreatedDate'])"
   ]
  },
  {
   "cell_type": "code",
   "execution_count": 15,
   "metadata": {},
   "outputs": [
    {
     "data": {
      "text/plain": [
       "StrainId                int64\n",
       "StrainType             object\n",
       "Name                   object\n",
       "IsDeleted                bool\n",
       "CreatedDate    datetime64[ns]\n",
       "dtype: object"
      ]
     },
     "execution_count": 15,
     "metadata": {},
     "output_type": "execute_result"
    }
   ],
   "source": [
    "df_concat.dtypes"
   ]
  },
  {
   "cell_type": "code",
   "execution_count": 16,
   "metadata": {},
   "outputs": [],
   "source": [
    "df_concat.to_parquet('strains.parquet', index=False)\n"
   ]
  },
  {
   "cell_type": "code",
   "execution_count": null,
   "metadata": {},
   "outputs": [],
   "source": []
  }
 ],
 "metadata": {
  "kernelspec": {
   "display_name": "Python 3.10.8 64-bit",
   "language": "python",
   "name": "python3"
  },
  "language_info": {
   "codemirror_mode": {
    "name": "ipython",
    "version": 3
   },
   "file_extension": ".py",
   "mimetype": "text/x-python",
   "name": "python",
   "nbconvert_exporter": "python",
   "pygments_lexer": "ipython3",
   "version": "3.10.8"
  },
  "orig_nbformat": 4,
  "vscode": {
   "interpreter": {
    "hash": "69712e5f5cc18cdb93e82f18d7bfde9a47d7138efae1f4b87f8f55069ac86612"
   }
  }
 },
 "nbformat": 4,
 "nbformat_minor": 2
}
