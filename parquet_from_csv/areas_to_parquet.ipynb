{
 "cells": [
  {
   "cell_type": "code",
   "execution_count": 1,
   "metadata": {},
   "outputs": [],
   "source": [
    "import pandas as pd\n",
    "import numpy as np\n",
    "import plotly.express as px\n",
    "import os\n",
    "import matplotlib.pyplot as plt\n",
    "from numpy import int8\n",
    "\n",
    "src = '../finalCCRSdata/Areas_0.csv'\n"
   ]
  },
  {
   "cell_type": "code",
   "execution_count": 2,
   "metadata": {},
   "outputs": [],
   "source": [
    "df = pd.read_csv(src)\n"
   ]
  },
  {
   "cell_type": "code",
   "execution_count": 3,
   "metadata": {},
   "outputs": [
    {
     "data": {
      "text/plain": [
       "0                             (?) Returns\n",
       "1                               (?) Seeds\n",
       "2                        -Bulk Inventory-\n",
       "3                        -Bulk Inventory-\n",
       "4                        -Bulk Inventory-\n",
       "                       ...               \n",
       "260338                          Golf XXII\n",
       "260339           Central Farms Llc-412792\n",
       "260340           CANNABIS KING LLC-430118\n",
       "260341    Cannabis Provisions Inc.-425585\n",
       "260342             Herbal E Scents-411970\n",
       "Name: Name, Length: 260343, dtype: object"
      ]
     },
     "execution_count": 3,
     "metadata": {},
     "output_type": "execute_result"
    }
   ],
   "source": [
    "df['Name'].fillna('Name')\n"
   ]
  },
  {
   "cell_type": "code",
   "execution_count": 4,
   "metadata": {},
   "outputs": [],
   "source": [
    "df = df[['AreaId', 'LicenseeId', 'Name', 'IsQuarantine', 'ExternalIdentifier',\n",
    "         'IsDeleted',\n",
    "         # 'CreatedBy',\n",
    "         'CreatedDate',\n",
    "         #'UpdatedBy', 'UpdatedDate'\n",
    "         ]]\n",
    "\n",
    "df = df.astype({\n",
    "    'AreaId':   int8,\n",
    "    'LicenseeId':   int8,\n",
    "    'Name':  str,\n",
    "    'IsQuarantine':    bool,\n",
    "    'ExternalIdentifier':  str,\n",
    "    'IsDeleted':    bool,\n",
    "    'CreatedDate':  object,\n",
    "})\n",
    "df['CreatedDate'] = pd.to_datetime(df['CreatedDate'])\n"
   ]
  },
  {
   "cell_type": "code",
   "execution_count": 5,
   "metadata": {},
   "outputs": [],
   "source": [
    "df.to_parquet('areas.parquet', index=False)\n"
   ]
  },
  {
   "cell_type": "code",
   "execution_count": null,
   "metadata": {},
   "outputs": [],
   "source": []
  }
 ],
 "metadata": {
  "kernelspec": {
   "display_name": "Python 3.10.8 64-bit",
   "language": "python",
   "name": "python3"
  },
  "language_info": {
   "codemirror_mode": {
    "name": "ipython",
    "version": 3
   },
   "file_extension": ".py",
   "mimetype": "text/x-python",
   "name": "python",
   "nbconvert_exporter": "python",
   "pygments_lexer": "ipython3",
   "version": "3.10.8"
  },
  "orig_nbformat": 4,
  "vscode": {
   "interpreter": {
    "hash": "69712e5f5cc18cdb93e82f18d7bfde9a47d7138efae1f4b87f8f55069ac86612"
   }
  }
 },
 "nbformat": 4,
 "nbformat_minor": 2
}
