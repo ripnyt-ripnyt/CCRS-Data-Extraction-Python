{
 "cells": [
  {
   "cell_type": "code",
   "execution_count": 3,
   "metadata": {},
   "outputs": [],
   "source": [
    "import csv\n",
    "import os\n",
    "import shutil"
   ]
  },
  {
   "cell_type": "code",
   "execution_count": 4,
   "metadata": {},
   "outputs": [],
   "source": [
    "src = '~/Documents/CCRS PRR (9-13-22)/'\n",
    "dest = './columnCleanup/'\n",
    "\n",
    "# Dialects for reading in .csv files.\n",
    "class customDialect(csv.Dialect):\n",
    "    \"\"\"Describe the usual properties of Excel-generated CSV files.\"\"\"\n",
    "    delimiter = '\\t'\n",
    "    quotechar = '\"'\n",
    "    doublequote = True\n",
    "    skipinitialspace = False\n",
    "    lineterminator = '\\n'\n",
    "    quoting = csv.QUOTE_MINIMAL\n",
    "csv.register_dialect(\"customDialect\", customDialect)"
   ]
  },
  {
   "cell_type": "markdown",
   "metadata": {},
   "source": [
    "## Definining the flaws of the files"
   ]
  },
  {
   "cell_type": "code",
   "execution_count": null,
   "metadata": {},
   "outputs": [],
   "source": [
    "# I will need to make a dictionary which contains the file prefixes\n",
    "# against the required columns and the location the flaw is.\n",
    "# I'm expecting there to only be one flawed column in each column type.\n",
    "# if there are more, then I will loop from the outer, right hand side one first.\n",
    "\n",
    "## TABLE TYPE SPECIFIC\n",
    "\n",
    "# pseudocode\n",
    "\n",
    "if filename matches key in dictionary:\n",
    "    reqColumns = first element in value of dict\n",
    "    badLocation = second element in value of matching dict\n",
    "else\n",
    "    print('bad file, not found in dict: ' + filename)\n"
   ]
  },
  {
   "cell_type": "code",
   "execution_count": null,
   "metadata": {},
   "outputs": [],
   "source": [
    "for filename in os.listdir(src):\n",
    "    # for now, I will create new files from old so that I can see where flaws are\n",
    "    f = os.path.join(src, filename)\n",
    "    o = os.path.join(dest, filename)\n",
    "    print(f + ' is losing columns')\n",
    "    with open(f, 'rt', encoding='utf-8') as csvFile:\n",
    "        with open(o, \"a\", encoding=\"utf-8\") as outputFile:\n",
    "            datareader = csv.reader(csvFile, dialect='customDialect')\n",
    "            datawriter = csv.writer(outputFile, dialect='customDialect')\n",
    "            with open(e, 'a', encoding='utf-8') as errorFile:\n",
    "                for row in datareader:\n",
    "                    valuesList = []\n",
    "                    for column in row:\n",
    "                        valuesList.append(column)                           #building a list of strings\n",
    "                    if len(valuesList) < reqColumns:                        #checking for correct # of columns, and troubleshooting\n",
    "                        print(valuesList)\n",
    "                    while reqColumns < len(valuesList):\n",
    "                        valuesList[2] = valuesList[2] + valuesList[3]       #this uses the observation that the names column in strains table has tabs in it\n",
    "                        del valuesList[3]                                   #will need to be modified for other tables?\n",
    "                    datawriter.writerow(valuesList)\n",
    "            values.append(tuple(valuesList))\n",
    "            print(str(datareader.line_num), ' lines ready for SQL-Python-Connect')\n",
    "    os.remove(f)"
   ]
  }
 ],
 "metadata": {
  "kernelspec": {
   "display_name": "Python 3.10.8 64-bit",
   "language": "python",
   "name": "python3"
  },
  "language_info": {
   "codemirror_mode": {
    "name": "ipython",
    "version": 3
   },
   "file_extension": ".py",
   "mimetype": "text/x-python",
   "name": "python",
   "nbconvert_exporter": "python",
   "pygments_lexer": "ipython3",
   "version": "3.10.8"
  },
  "orig_nbformat": 4,
  "vscode": {
   "interpreter": {
    "hash": "69712e5f5cc18cdb93e82f18d7bfde9a47d7138efae1f4b87f8f55069ac86612"
   }
  }
 },
 "nbformat": 4,
 "nbformat_minor": 2
}
